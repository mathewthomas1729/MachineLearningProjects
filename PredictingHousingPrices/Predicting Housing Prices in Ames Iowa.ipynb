{
 "cells": [
  {
   "cell_type": "markdown",
   "metadata": {},
   "source": [
    "## Predicting House Sale Prices in Iowa\n",
    "This project is aimed towards predicting house sale prices in Iowa based on Ames housing data available."
   ]
  },
  {
   "cell_type": "code",
   "execution_count": 2,
   "metadata": {},
   "outputs": [],
   "source": [
    "#Importing necessary libraries\n",
    "from sklearn.linear_model import LinearRegression\n",
    "from sklearn.metrics import mean_squared_error\n",
    "from sklearn import linear_model\n",
    "from sklearn.model_selection import KFold\n",
    "import pandas as pd\n",
    "import numpy as np\n",
    "import matplotlib.pyplot as plt\n",
    "import seaborn as sns\n",
    "%matplotlib inline"
   ]
  },
  {
   "cell_type": "code",
   "execution_count": 4,
   "metadata": {},
   "outputs": [],
   "source": [
    "df = pd.read_csv('C:/Users/thomath/OneDrive - TIAA/Desktop/AmesHousing.txt',delimiter='\\t')"
   ]
  },
  {
   "cell_type": "code",
   "execution_count": 5,
   "metadata": {},
   "outputs": [
    {
     "data": {
      "text/html": [
       "<div>\n",
       "<style scoped>\n",
       "    .dataframe tbody tr th:only-of-type {\n",
       "        vertical-align: middle;\n",
       "    }\n",
       "\n",
       "    .dataframe tbody tr th {\n",
       "        vertical-align: top;\n",
       "    }\n",
       "\n",
       "    .dataframe thead th {\n",
       "        text-align: right;\n",
       "    }\n",
       "</style>\n",
       "<table border=\"1\" class=\"dataframe\">\n",
       "  <thead>\n",
       "    <tr style=\"text-align: right;\">\n",
       "      <th></th>\n",
       "      <th>Order</th>\n",
       "      <th>PID</th>\n",
       "      <th>MS SubClass</th>\n",
       "      <th>MS Zoning</th>\n",
       "      <th>Lot Frontage</th>\n",
       "      <th>Lot Area</th>\n",
       "      <th>Street</th>\n",
       "      <th>Alley</th>\n",
       "      <th>Lot Shape</th>\n",
       "      <th>Land Contour</th>\n",
       "      <th>...</th>\n",
       "      <th>Pool Area</th>\n",
       "      <th>Pool QC</th>\n",
       "      <th>Fence</th>\n",
       "      <th>Misc Feature</th>\n",
       "      <th>Misc Val</th>\n",
       "      <th>Mo Sold</th>\n",
       "      <th>Yr Sold</th>\n",
       "      <th>Sale Type</th>\n",
       "      <th>Sale Condition</th>\n",
       "      <th>SalePrice</th>\n",
       "    </tr>\n",
       "  </thead>\n",
       "  <tbody>\n",
       "    <tr>\n",
       "      <th>0</th>\n",
       "      <td>1</td>\n",
       "      <td>526301100</td>\n",
       "      <td>20</td>\n",
       "      <td>RL</td>\n",
       "      <td>141.0</td>\n",
       "      <td>31770</td>\n",
       "      <td>Pave</td>\n",
       "      <td>NaN</td>\n",
       "      <td>IR1</td>\n",
       "      <td>Lvl</td>\n",
       "      <td>...</td>\n",
       "      <td>0</td>\n",
       "      <td>NaN</td>\n",
       "      <td>NaN</td>\n",
       "      <td>NaN</td>\n",
       "      <td>0</td>\n",
       "      <td>5</td>\n",
       "      <td>2010</td>\n",
       "      <td>WD</td>\n",
       "      <td>Normal</td>\n",
       "      <td>215000</td>\n",
       "    </tr>\n",
       "    <tr>\n",
       "      <th>1</th>\n",
       "      <td>2</td>\n",
       "      <td>526350040</td>\n",
       "      <td>20</td>\n",
       "      <td>RH</td>\n",
       "      <td>80.0</td>\n",
       "      <td>11622</td>\n",
       "      <td>Pave</td>\n",
       "      <td>NaN</td>\n",
       "      <td>Reg</td>\n",
       "      <td>Lvl</td>\n",
       "      <td>...</td>\n",
       "      <td>0</td>\n",
       "      <td>NaN</td>\n",
       "      <td>MnPrv</td>\n",
       "      <td>NaN</td>\n",
       "      <td>0</td>\n",
       "      <td>6</td>\n",
       "      <td>2010</td>\n",
       "      <td>WD</td>\n",
       "      <td>Normal</td>\n",
       "      <td>105000</td>\n",
       "    </tr>\n",
       "    <tr>\n",
       "      <th>2</th>\n",
       "      <td>3</td>\n",
       "      <td>526351010</td>\n",
       "      <td>20</td>\n",
       "      <td>RL</td>\n",
       "      <td>81.0</td>\n",
       "      <td>14267</td>\n",
       "      <td>Pave</td>\n",
       "      <td>NaN</td>\n",
       "      <td>IR1</td>\n",
       "      <td>Lvl</td>\n",
       "      <td>...</td>\n",
       "      <td>0</td>\n",
       "      <td>NaN</td>\n",
       "      <td>NaN</td>\n",
       "      <td>Gar2</td>\n",
       "      <td>12500</td>\n",
       "      <td>6</td>\n",
       "      <td>2010</td>\n",
       "      <td>WD</td>\n",
       "      <td>Normal</td>\n",
       "      <td>172000</td>\n",
       "    </tr>\n",
       "    <tr>\n",
       "      <th>3</th>\n",
       "      <td>4</td>\n",
       "      <td>526353030</td>\n",
       "      <td>20</td>\n",
       "      <td>RL</td>\n",
       "      <td>93.0</td>\n",
       "      <td>11160</td>\n",
       "      <td>Pave</td>\n",
       "      <td>NaN</td>\n",
       "      <td>Reg</td>\n",
       "      <td>Lvl</td>\n",
       "      <td>...</td>\n",
       "      <td>0</td>\n",
       "      <td>NaN</td>\n",
       "      <td>NaN</td>\n",
       "      <td>NaN</td>\n",
       "      <td>0</td>\n",
       "      <td>4</td>\n",
       "      <td>2010</td>\n",
       "      <td>WD</td>\n",
       "      <td>Normal</td>\n",
       "      <td>244000</td>\n",
       "    </tr>\n",
       "    <tr>\n",
       "      <th>4</th>\n",
       "      <td>5</td>\n",
       "      <td>527105010</td>\n",
       "      <td>60</td>\n",
       "      <td>RL</td>\n",
       "      <td>74.0</td>\n",
       "      <td>13830</td>\n",
       "      <td>Pave</td>\n",
       "      <td>NaN</td>\n",
       "      <td>IR1</td>\n",
       "      <td>Lvl</td>\n",
       "      <td>...</td>\n",
       "      <td>0</td>\n",
       "      <td>NaN</td>\n",
       "      <td>MnPrv</td>\n",
       "      <td>NaN</td>\n",
       "      <td>0</td>\n",
       "      <td>3</td>\n",
       "      <td>2010</td>\n",
       "      <td>WD</td>\n",
       "      <td>Normal</td>\n",
       "      <td>189900</td>\n",
       "    </tr>\n",
       "  </tbody>\n",
       "</table>\n",
       "<p>5 rows × 82 columns</p>\n",
       "</div>"
      ],
      "text/plain": [
       "   Order        PID  MS SubClass MS Zoning  Lot Frontage  Lot Area Street  \\\n",
       "0      1  526301100           20        RL         141.0     31770   Pave   \n",
       "1      2  526350040           20        RH          80.0     11622   Pave   \n",
       "2      3  526351010           20        RL          81.0     14267   Pave   \n",
       "3      4  526353030           20        RL          93.0     11160   Pave   \n",
       "4      5  527105010           60        RL          74.0     13830   Pave   \n",
       "\n",
       "  Alley Lot Shape Land Contour    ...     Pool Area Pool QC  Fence  \\\n",
       "0   NaN       IR1          Lvl    ...             0     NaN    NaN   \n",
       "1   NaN       Reg          Lvl    ...             0     NaN  MnPrv   \n",
       "2   NaN       IR1          Lvl    ...             0     NaN    NaN   \n",
       "3   NaN       Reg          Lvl    ...             0     NaN    NaN   \n",
       "4   NaN       IR1          Lvl    ...             0     NaN  MnPrv   \n",
       "\n",
       "  Misc Feature Misc Val Mo Sold Yr Sold Sale Type  Sale Condition  SalePrice  \n",
       "0          NaN        0       5    2010       WD           Normal     215000  \n",
       "1          NaN        0       6    2010       WD           Normal     105000  \n",
       "2         Gar2    12500       6    2010       WD           Normal     172000  \n",
       "3          NaN        0       4    2010       WD           Normal     244000  \n",
       "4          NaN        0       3    2010       WD           Normal     189900  \n",
       "\n",
       "[5 rows x 82 columns]"
      ]
     },
     "execution_count": 5,
     "metadata": {},
     "output_type": "execute_result"
    }
   ],
   "source": [
    "df.head()"
   ]
  },
  {
   "cell_type": "code",
   "execution_count": 72,
   "metadata": {},
   "outputs": [],
   "source": [
    "df_towork=df.copy()"
   ]
  },
  {
   "cell_type": "code",
   "execution_count": 73,
   "metadata": {},
   "outputs": [
    {
     "data": {
      "text/plain": [
       "Index(['Mas Vnr Type', 'Mas Vnr Area', 'Bsmt Qual', 'Bsmt Cond',\n",
       "       'Bsmt Exposure', 'BsmtFin Type 1', 'BsmtFin SF 1', 'BsmtFin Type 2',\n",
       "       'BsmtFin SF 2', 'Bsmt Unf SF', 'Total Bsmt SF', 'Electrical',\n",
       "       'Bsmt Full Bath', 'Bsmt Half Bath', 'Garage Cars', 'Garage Area'],\n",
       "      dtype='object')"
      ]
     },
     "execution_count": 73,
     "metadata": {},
     "output_type": "execute_result"
    }
   ],
   "source": [
    "#Identifying columns less than 5% null values\n",
    "NullSeries=df_towork.isnull().sum()\n",
    "NullSeries_Columns=NullSeries[(NullSeries!=0) & (NullSeries<146)].index\n",
    "NullSeries_Columns"
   ]
  },
  {
   "cell_type": "code",
   "execution_count": 74,
   "metadata": {},
   "outputs": [],
   "source": [
    "#Filling numerical columns from nullseries with mean.\n",
    "to_fill_mean=df_towork[NullSeries_Columns].select_dtypes(include=(['float','int'])).columns\n",
    "for i in to_fill_mean:\n",
    "    df_towork[i]=df_towork[i].fillna(np.mean(df_towork[i]))"
   ]
  },
  {
   "cell_type": "code",
   "execution_count": 75,
   "metadata": {},
   "outputs": [],
   "source": [
    "#df_towork.info()\n",
    "df_towork['years_since_remod']=df_towork['Yr Sold']-df_towork['Year Remod/Add']\n",
    "df_towork['years_to_remod']=df_towork['Year Remod/Add']-df_towork['Year Built']\n",
    "df_towork['years_sold']=df_towork['Yr Sold']-df_towork['Year Built']\n",
    "df_towork[(df_towork['years_since_remod']<0) | (df_towork['years_to_remod']<0) | (df_towork['years_sold']<0) ]\n",
    "#Rows 850,1702,2180 and 2181 need to be dropped since they have invalid values\n",
    "df_towork=df_towork.drop([850,1702,2180,2181],axis=0)\n",
    "\n"
   ]
  },
  {
   "cell_type": "code",
   "execution_count": 76,
   "metadata": {
    "scrolled": true
   },
   "outputs": [
    {
     "name": "stdout",
     "output_type": "stream",
     "text": [
      "<class 'pandas.core.frame.DataFrame'>\n",
      "Int64Index: 2926 entries, 0 to 2929\n",
      "Data columns (total 78 columns):\n",
      "MS SubClass          2926 non-null int64\n",
      "MS Zoning            2926 non-null object\n",
      "Lot Frontage         2436 non-null float64\n",
      "Lot Area             2926 non-null int64\n",
      "Street               2926 non-null object\n",
      "Alley                198 non-null object\n",
      "Lot Shape            2926 non-null object\n",
      "Land Contour         2926 non-null object\n",
      "Utilities            2926 non-null object\n",
      "Lot Config           2926 non-null object\n",
      "Land Slope           2926 non-null object\n",
      "Neighborhood         2926 non-null object\n",
      "Condition 1          2926 non-null object\n",
      "Condition 2          2926 non-null object\n",
      "Bldg Type            2926 non-null object\n",
      "House Style          2926 non-null object\n",
      "Overall Qual         2926 non-null int64\n",
      "Overall Cond         2926 non-null int64\n",
      "Roof Style           2926 non-null object\n",
      "Roof Matl            2926 non-null object\n",
      "Exterior 1st         2926 non-null object\n",
      "Exterior 2nd         2926 non-null object\n",
      "Mas Vnr Type         2903 non-null object\n",
      "Mas Vnr Area         2926 non-null float64\n",
      "Exter Qual           2926 non-null object\n",
      "Exter Cond           2926 non-null object\n",
      "Foundation           2926 non-null object\n",
      "Bsmt Qual            2846 non-null object\n",
      "Bsmt Cond            2846 non-null object\n",
      "Bsmt Exposure        2843 non-null object\n",
      "BsmtFin Type 1       2846 non-null object\n",
      "BsmtFin SF 1         2926 non-null float64\n",
      "BsmtFin Type 2       2845 non-null object\n",
      "BsmtFin SF 2         2926 non-null float64\n",
      "Bsmt Unf SF          2926 non-null float64\n",
      "Total Bsmt SF        2926 non-null float64\n",
      "Heating              2926 non-null object\n",
      "Heating QC           2926 non-null object\n",
      "Central Air          2926 non-null object\n",
      "Electrical           2925 non-null object\n",
      "1st Flr SF           2926 non-null int64\n",
      "2nd Flr SF           2926 non-null int64\n",
      "Low Qual Fin SF      2926 non-null int64\n",
      "Gr Liv Area          2926 non-null int64\n",
      "Bsmt Full Bath       2926 non-null float64\n",
      "Bsmt Half Bath       2926 non-null float64\n",
      "Full Bath            2926 non-null int64\n",
      "Half Bath            2926 non-null int64\n",
      "Bedroom AbvGr        2926 non-null int64\n",
      "Kitchen AbvGr        2926 non-null int64\n",
      "Kitchen Qual         2926 non-null object\n",
      "TotRms AbvGrd        2926 non-null int64\n",
      "Functional           2926 non-null object\n",
      "Fireplaces           2926 non-null int64\n",
      "Fireplace Qu         1505 non-null object\n",
      "Garage Type          2769 non-null object\n",
      "Garage Yr Blt        2767 non-null float64\n",
      "Garage Finish        2767 non-null object\n",
      "Garage Cars          2926 non-null float64\n",
      "Garage Area          2926 non-null float64\n",
      "Garage Qual          2767 non-null object\n",
      "Garage Cond          2767 non-null object\n",
      "Paved Drive          2926 non-null object\n",
      "Wood Deck SF         2926 non-null int64\n",
      "Open Porch SF        2926 non-null int64\n",
      "Enclosed Porch       2926 non-null int64\n",
      "3Ssn Porch           2926 non-null int64\n",
      "Screen Porch         2926 non-null int64\n",
      "Pool Area            2926 non-null int64\n",
      "Pool QC              13 non-null object\n",
      "Fence                572 non-null object\n",
      "Misc Feature         105 non-null object\n",
      "Misc Val             2926 non-null int64\n",
      "Yr Sold              2926 non-null int64\n",
      "SalePrice            2926 non-null int64\n",
      "years_since_remod    2926 non-null int64\n",
      "years_to_remod       2926 non-null int64\n",
      "years_sold           2926 non-null int64\n",
      "dtypes: float64(11), int64(26), object(41)\n",
      "memory usage: 1.8+ MB\n"
     ]
    }
   ],
   "source": [
    "#Dropping columns which are not relevant\n",
    "df_towork = df_towork.drop([\"PID\", \"Order\", \"Mo Sold\", \"Sale Condition\", \"Sale Type\", \"Year Built\", \"Year Remod/Add\"], axis=1)\n",
    "df_towork.info()"
   ]
  },
  {
   "cell_type": "code",
   "execution_count": 77,
   "metadata": {},
   "outputs": [],
   "source": [
    "#Dropping text fields that have missing values\n",
    "text_fields=df_towork.select_dtypes(include=(['object'])).columns\n",
    "missing_text_vals=df_towork[text_fields].isnull().sum()\n",
    "missing_text_vals_columns=missing_text_vals[missing_text_vals>0].index\n",
    "df_towork=df_towork.drop(missing_text_vals_columns,axis=1)"
   ]
  },
  {
   "cell_type": "code",
   "execution_count": 252,
   "metadata": {},
   "outputs": [],
   "source": [
    "numeric_nulls =df_towork.select_dtypes(include=('int64','float64')).isnull().sum()"
   ]
  },
  {
   "cell_type": "code",
   "execution_count": 254,
   "metadata": {},
   "outputs": [],
   "source": [
    "numeric_nulls=numeric_nulls[numeric_nulls>0].index\n",
    "df_towork=df_towork.drop(numeric_nulls,axis=1)"
   ]
  },
  {
   "cell_type": "code",
   "execution_count": 262,
   "metadata": {},
   "outputs": [],
   "source": [
    "#Combining all the steps above to encapsulate it in a single function\n",
    "def transform_features(df):\n",
    "    df_towork=df.copy()\n",
    "    \n",
    "    #Dropping text fields that have missing values\n",
    "    text_fields=df_towork.select_dtypes(include=(['object'])).columns\n",
    "    missing_text_vals=df_towork[text_fields].isnull().sum()\n",
    "    missing_text_vals_columns=missing_text_vals[missing_text_vals>0].index\n",
    "    df_towork=df_towork.drop(missing_text_vals_columns,axis=1)\n",
    "\n",
    "    #Filling numerical columns that have less than 5% null values\n",
    "    NullSeries=df_towork.isnull().sum()\n",
    "    NullSeries_Columns=NullSeries[(NullSeries!=0) & (NullSeries<146)].index\n",
    "    to_fill_mean=df_towork[NullSeries_Columns].select_dtypes(include=(['float','int'])).columns\n",
    "    for i in to_fill_mean:\n",
    "        df_towork[i]=df_towork[i].fillna(np.mean(df_towork[i]))\n",
    "     \n",
    "    #Calculating new fields that are numerical in nature\n",
    "    df_towork['years_since_remod']=df_towork['Yr Sold']-df_towork['Year Remod/Add']\n",
    "    df_towork['years_to_remod']=df_towork['Year Remod/Add']-df_towork['Year Built']\n",
    "    df_towork['years_sold']=df_towork['Yr Sold']-df_towork['Year Built']\n",
    "    #df_towork[(df_towork['years_since_remod']<0) | (df_towork['years_to_remod']<0) | (df_towork['years_sold']<0) ]\n",
    "    #Rows 850,1702,2180 and 2181 need to be dropped since they have invalid values\n",
    "    df_towork=df_towork.drop([850,1702,2180,2181],axis=0)\n",
    "    \n",
    "    #Dropping columns which still have numeric null values\n",
    "    numeric_nulls =df_towork.select_dtypes(include=('int64','float64')).isnull().sum()\n",
    "    numeric_nulls=numeric_nulls[numeric_nulls>0].index\n",
    "    df_towork=df_towork.drop(numeric_nulls,axis=1)\n",
    "\n",
    "    #Dropping columns which are not relevant\n",
    "    df_towork = df_towork.drop([\"PID\", \"Order\", \"Mo Sold\", \"Sale Condition\", \"Sale Type\", \"Year Built\", \"Year Remod/Add\"], axis=1)\n",
    "    \n",
    "    \n",
    "    return df_towork\n",
    "    "
   ]
  },
  {
   "cell_type": "code",
   "execution_count": 255,
   "metadata": {},
   "outputs": [
    {
     "name": "stdout",
     "output_type": "stream",
     "text": [
      "<class 'pandas.core.frame.DataFrame'>\n",
      "Int64Index: 2926 entries, 0 to 2929\n",
      "Data columns (total 62 columns):\n",
      "MS SubClass          2926 non-null int64\n",
      "MS Zoning            2926 non-null object\n",
      "Lot Frontage         2436 non-null float64\n",
      "Lot Area             2926 non-null int64\n",
      "Street               2926 non-null object\n",
      "Lot Shape            2926 non-null object\n",
      "Land Contour         2926 non-null object\n",
      "Utilities            2926 non-null object\n",
      "Lot Config           2926 non-null object\n",
      "Land Slope           2926 non-null object\n",
      "Neighborhood         2926 non-null object\n",
      "Condition 1          2926 non-null object\n",
      "Condition 2          2926 non-null object\n",
      "Bldg Type            2926 non-null object\n",
      "House Style          2926 non-null object\n",
      "Overall Qual         2926 non-null int64\n",
      "Overall Cond         2926 non-null int64\n",
      "Roof Style           2926 non-null object\n",
      "Roof Matl            2926 non-null object\n",
      "Exterior 1st         2926 non-null object\n",
      "Exterior 2nd         2926 non-null object\n",
      "Mas Vnr Area         2926 non-null float64\n",
      "Exter Qual           2926 non-null object\n",
      "Exter Cond           2926 non-null object\n",
      "Foundation           2926 non-null object\n",
      "BsmtFin SF 1         2926 non-null float64\n",
      "BsmtFin SF 2         2926 non-null float64\n",
      "Bsmt Unf SF          2926 non-null float64\n",
      "Total Bsmt SF        2926 non-null float64\n",
      "Heating              2926 non-null object\n",
      "Heating QC           2926 non-null object\n",
      "Central Air          2926 non-null object\n",
      "1st Flr SF           2926 non-null int64\n",
      "2nd Flr SF           2926 non-null int64\n",
      "Low Qual Fin SF      2926 non-null int64\n",
      "Gr Liv Area          2926 non-null int64\n",
      "Bsmt Full Bath       2926 non-null float64\n",
      "Bsmt Half Bath       2926 non-null float64\n",
      "Full Bath            2926 non-null int64\n",
      "Half Bath            2926 non-null int64\n",
      "Bedroom AbvGr        2926 non-null int64\n",
      "Kitchen AbvGr        2926 non-null int64\n",
      "Kitchen Qual         2926 non-null object\n",
      "TotRms AbvGrd        2926 non-null int64\n",
      "Functional           2926 non-null object\n",
      "Fireplaces           2926 non-null int64\n",
      "Garage Yr Blt        2767 non-null float64\n",
      "Garage Cars          2926 non-null float64\n",
      "Garage Area          2926 non-null float64\n",
      "Paved Drive          2926 non-null object\n",
      "Wood Deck SF         2926 non-null int64\n",
      "Open Porch SF        2926 non-null int64\n",
      "Enclosed Porch       2926 non-null int64\n",
      "3Ssn Porch           2926 non-null int64\n",
      "Screen Porch         2926 non-null int64\n",
      "Pool Area            2926 non-null int64\n",
      "Misc Val             2926 non-null int64\n",
      "Yr Sold              2926 non-null int64\n",
      "SalePrice            2926 non-null int64\n",
      "years_since_remod    2926 non-null int64\n",
      "years_to_remod       2926 non-null int64\n",
      "years_sold           2926 non-null int64\n",
      "dtypes: float64(11), int64(26), object(25)\n",
      "memory usage: 1.4+ MB\n"
     ]
    }
   ],
   "source": [
    "#Testing above function\n",
    "df_test=transform_features(df)\n",
    "df_test.info()\n",
    "del df_test"
   ]
  },
  {
   "cell_type": "code",
   "execution_count": 80,
   "metadata": {},
   "outputs": [
    {
     "name": "stdout",
     "output_type": "stream",
     "text": [
      "<class 'pandas.core.frame.DataFrame'>\n",
      "Int64Index: 2926 entries, 0 to 2929\n",
      "Data columns (total 62 columns):\n",
      "MS SubClass          2926 non-null int64\n",
      "MS Zoning            2926 non-null object\n",
      "Lot Frontage         2436 non-null float64\n",
      "Lot Area             2926 non-null int64\n",
      "Street               2926 non-null object\n",
      "Lot Shape            2926 non-null object\n",
      "Land Contour         2926 non-null object\n",
      "Utilities            2926 non-null object\n",
      "Lot Config           2926 non-null object\n",
      "Land Slope           2926 non-null object\n",
      "Neighborhood         2926 non-null object\n",
      "Condition 1          2926 non-null object\n",
      "Condition 2          2926 non-null object\n",
      "Bldg Type            2926 non-null object\n",
      "House Style          2926 non-null object\n",
      "Overall Qual         2926 non-null int64\n",
      "Overall Cond         2926 non-null int64\n",
      "Roof Style           2926 non-null object\n",
      "Roof Matl            2926 non-null object\n",
      "Exterior 1st         2926 non-null object\n",
      "Exterior 2nd         2926 non-null object\n",
      "Mas Vnr Area         2926 non-null float64\n",
      "Exter Qual           2926 non-null object\n",
      "Exter Cond           2926 non-null object\n",
      "Foundation           2926 non-null object\n",
      "BsmtFin SF 1         2926 non-null float64\n",
      "BsmtFin SF 2         2926 non-null float64\n",
      "Bsmt Unf SF          2926 non-null float64\n",
      "Total Bsmt SF        2926 non-null float64\n",
      "Heating              2926 non-null object\n",
      "Heating QC           2926 non-null object\n",
      "Central Air          2926 non-null object\n",
      "1st Flr SF           2926 non-null int64\n",
      "2nd Flr SF           2926 non-null int64\n",
      "Low Qual Fin SF      2926 non-null int64\n",
      "Gr Liv Area          2926 non-null int64\n",
      "Bsmt Full Bath       2926 non-null float64\n",
      "Bsmt Half Bath       2926 non-null float64\n",
      "Full Bath            2926 non-null int64\n",
      "Half Bath            2926 non-null int64\n",
      "Bedroom AbvGr        2926 non-null int64\n",
      "Kitchen AbvGr        2926 non-null int64\n",
      "Kitchen Qual         2926 non-null object\n",
      "TotRms AbvGrd        2926 non-null int64\n",
      "Functional           2926 non-null object\n",
      "Fireplaces           2926 non-null int64\n",
      "Garage Yr Blt        2767 non-null float64\n",
      "Garage Cars          2926 non-null float64\n",
      "Garage Area          2926 non-null float64\n",
      "Paved Drive          2926 non-null object\n",
      "Wood Deck SF         2926 non-null int64\n",
      "Open Porch SF        2926 non-null int64\n",
      "Enclosed Porch       2926 non-null int64\n",
      "3Ssn Porch           2926 non-null int64\n",
      "Screen Porch         2926 non-null int64\n",
      "Pool Area            2926 non-null int64\n",
      "Misc Val             2926 non-null int64\n",
      "Yr Sold              2926 non-null int64\n",
      "SalePrice            2926 non-null int64\n",
      "years_since_remod    2926 non-null int64\n",
      "years_to_remod       2926 non-null int64\n",
      "years_sold           2926 non-null int64\n",
      "dtypes: float64(11), int64(26), object(25)\n",
      "memory usage: 1.4+ MB\n"
     ]
    }
   ],
   "source": [
    "df_towork.info()"
   ]
  },
  {
   "cell_type": "code",
   "execution_count": 207,
   "metadata": {},
   "outputs": [
    {
     "data": {
      "text/plain": [
       "Index(['MS SubClass', 'Lot Frontage', 'Lot Area', 'Overall Cond',\n",
       "       'BsmtFin SF 2', 'Bsmt Unf SF', '2nd Flr SF', 'Low Qual Fin SF',\n",
       "       'Bsmt Full Bath', 'Bsmt Half Bath', 'Half Bath', 'Bedroom AbvGr',\n",
       "       'Kitchen AbvGr', 'Wood Deck SF', 'Open Porch SF', 'Enclosed Porch',\n",
       "       '3Ssn Porch', 'Screen Porch', 'Pool Area', 'Misc Val', 'Yr Sold',\n",
       "       'years_to_remod'],\n",
       "      dtype='object')"
      ]
     },
     "execution_count": 207,
     "metadata": {},
     "output_type": "execute_result"
    }
   ],
   "source": [
    "#Calculating corrrelation factors of all numerical features\n",
    "numerical_features=df_towork.select_dtypes(include=(['float64','int64'])).columns\n",
    "corrmat=df_towork.select_dtypes(include=(['float64','int64'])).corr()\n",
    "strong_corr=corrmat[corrmat['SalePrice'].abs()>=.4].drop(['SalePrice'],axis=1).index\n",
    "weak_corr=corrmat[corrmat['SalePrice'].abs()<.4].index\n",
    "weak_corr\n",
    "#df_towork=df_towork.drop(weak_corr,axis=1)\n",
    "#corrmat[corrmat['SalePrice'].abs()>=.4].index"
   ]
  },
  {
   "cell_type": "code",
   "execution_count": 190,
   "metadata": {},
   "outputs": [],
   "source": [
    "nominal_features = [\"PID\", \"MS SubClass\", \"MS Zoning\", \"Street\", \"Alley\", \"Land Contour\", \"Lot Config\", \"Neighborhood\", \n",
    "                    \"Condition 1\", \"Condition 2\", \"Bldg Type\", \"House Style\", \"Roof Style\", \"Roof Matl\", \"Exterior 1st\", \n",
    "                    \"Exterior 2nd\", \"Mas Vnr Type\", \"Foundation\", \"Heating\", \"Central Air\", \"Garage Type\", \n",
    "                    \"Misc Feature\", \"Sale Type\", \"Sale Condition\"]"
   ]
  },
  {
   "cell_type": "code",
   "execution_count": 208,
   "metadata": {},
   "outputs": [],
   "source": [
    "df_towork_v2=df_towork.copy()"
   ]
  },
  {
   "cell_type": "code",
   "execution_count": 209,
   "metadata": {},
   "outputs": [],
   "source": [
    "#weak_corr\n",
    "df_towork_v2=df_towork_v2.drop(weak_corr,axis=1)"
   ]
  },
  {
   "cell_type": "code",
   "execution_count": 211,
   "metadata": {},
   "outputs": [
    {
     "data": {
      "text/plain": [
       "Index(['MS SubClass', 'MS Zoning', 'Lot Frontage', 'Lot Area', 'Street',\n",
       "       'Lot Shape', 'Land Contour', 'Utilities', 'Lot Config', 'Land Slope',\n",
       "       'Neighborhood', 'Condition 1', 'Condition 2', 'Bldg Type',\n",
       "       'House Style', 'Overall Qual', 'Overall Cond', 'Roof Style',\n",
       "       'Roof Matl', 'Exterior 1st', 'Exterior 2nd', 'Mas Vnr Area',\n",
       "       'Exter Qual', 'Exter Cond', 'Foundation', 'BsmtFin SF 1',\n",
       "       'BsmtFin SF 2', 'Bsmt Unf SF', 'Total Bsmt SF', 'Heating', 'Heating QC',\n",
       "       'Central Air', '1st Flr SF', '2nd Flr SF', 'Low Qual Fin SF',\n",
       "       'Gr Liv Area', 'Bsmt Full Bath', 'Bsmt Half Bath', 'Full Bath',\n",
       "       'Half Bath', 'Bedroom AbvGr', 'Kitchen AbvGr', 'Kitchen Qual',\n",
       "       'TotRms AbvGrd', 'Functional', 'Fireplaces', 'Garage Yr Blt',\n",
       "       'Garage Cars', 'Garage Area', 'Paved Drive', 'Wood Deck SF',\n",
       "       'Open Porch SF', 'Enclosed Porch', '3Ssn Porch', 'Screen Porch',\n",
       "       'Pool Area', 'Misc Val', 'Yr Sold', 'SalePrice', 'years_since_remod',\n",
       "       'years_to_remod', 'years_sold'],\n",
       "      dtype='object')"
      ]
     },
     "execution_count": 211,
     "metadata": {},
     "output_type": "execute_result"
    }
   ],
   "source": [
    "df_towork.columns"
   ]
  },
  {
   "cell_type": "code",
   "execution_count": 170,
   "metadata": {},
   "outputs": [],
   "source": [
    "#Dropping nominal features which have weak correlation\n",
    "variables_to_categorize=[]\n",
    "for i in nominal_features:\n",
    "    if i in df_towork_v2.columns:\n",
    "        variables_to_categorize.append(i)"
   ]
  },
  {
   "cell_type": "code",
   "execution_count": 171,
   "metadata": {},
   "outputs": [
    {
     "name": "stdout",
     "output_type": "stream",
     "text": [
      "Neighborhood 28\n",
      "Exterior 1st 16\n",
      "Exterior 2nd 17\n"
     ]
    }
   ],
   "source": [
    "variables_to_categorize\n",
    "for i in variables_to_categorize:\n",
    "    if len(df_towork_v2[i].unique())>=10:\n",
    "        print(i,len(df_towork_v2[i].unique()))\n",
    "        df_towork_v2=df_towork_v2.drop(i,axis=1)"
   ]
  },
  {
   "cell_type": "code",
   "execution_count": 172,
   "metadata": {},
   "outputs": [],
   "source": [
    "variables_to_categorize.remove('Neighborhood')\n",
    "variables_to_categorize.remove('Exterior 1st')\n",
    "variables_to_categorize.remove('Exterior 2nd')"
   ]
  },
  {
   "cell_type": "code",
   "execution_count": 173,
   "metadata": {},
   "outputs": [
    {
     "data": {
      "text/plain": [
       "['MS Zoning',\n",
       " 'Street',\n",
       " 'Land Contour',\n",
       " 'Lot Config',\n",
       " 'Condition 1',\n",
       " 'Condition 2',\n",
       " 'Bldg Type',\n",
       " 'House Style',\n",
       " 'Roof Style',\n",
       " 'Roof Matl',\n",
       " 'Foundation',\n",
       " 'Heating',\n",
       " 'Central Air']"
      ]
     },
     "execution_count": 173,
     "metadata": {},
     "output_type": "execute_result"
    }
   ],
   "source": [
    "variables_to_categorize"
   ]
  },
  {
   "cell_type": "code",
   "execution_count": 174,
   "metadata": {},
   "outputs": [],
   "source": [
    "df_towork_v2\n",
    "text_cols=df_towork_v2.select_dtypes(include=(['object'])).columns\n",
    "text_cols\n",
    "for i in text_cols:\n",
    "    df_towork_v2[i]=df_towork_v2[i].astype('category')"
   ]
  },
  {
   "cell_type": "code",
   "execution_count": 175,
   "metadata": {},
   "outputs": [
    {
     "name": "stdout",
     "output_type": "stream",
     "text": [
      "<class 'pandas.core.frame.DataFrame'>\n",
      "Int64Index: 2926 entries, 0 to 2929\n",
      "Data columns (total 37 columns):\n",
      "MS Zoning            2926 non-null category\n",
      "Street               2926 non-null category\n",
      "Lot Shape            2926 non-null category\n",
      "Land Contour         2926 non-null category\n",
      "Utilities            2926 non-null category\n",
      "Lot Config           2926 non-null category\n",
      "Land Slope           2926 non-null category\n",
      "Condition 1          2926 non-null category\n",
      "Condition 2          2926 non-null category\n",
      "Bldg Type            2926 non-null category\n",
      "House Style          2926 non-null category\n",
      "Overall Qual         2926 non-null int64\n",
      "Roof Style           2926 non-null category\n",
      "Roof Matl            2926 non-null category\n",
      "Mas Vnr Area         2926 non-null float64\n",
      "Exter Qual           2926 non-null category\n",
      "Exter Cond           2926 non-null category\n",
      "Foundation           2926 non-null category\n",
      "BsmtFin SF 1         2926 non-null float64\n",
      "Total Bsmt SF        2926 non-null float64\n",
      "Heating              2926 non-null category\n",
      "Heating QC           2926 non-null category\n",
      "Central Air          2926 non-null category\n",
      "1st Flr SF           2926 non-null int64\n",
      "Gr Liv Area          2926 non-null int64\n",
      "Full Bath            2926 non-null int64\n",
      "Kitchen Qual         2926 non-null category\n",
      "TotRms AbvGrd        2926 non-null int64\n",
      "Functional           2926 non-null category\n",
      "Fireplaces           2926 non-null int64\n",
      "Garage Yr Blt        2767 non-null float64\n",
      "Garage Cars          2926 non-null float64\n",
      "Garage Area          2926 non-null float64\n",
      "Paved Drive          2926 non-null category\n",
      "SalePrice            2926 non-null int64\n",
      "years_since_remod    2926 non-null int64\n",
      "years_sold           2926 non-null int64\n",
      "dtypes: category(22), float64(6), int64(9)\n",
      "memory usage: 433.5 KB\n"
     ]
    }
   ],
   "source": [
    "df_towork_v2.info()"
   ]
  },
  {
   "cell_type": "code",
   "execution_count": 176,
   "metadata": {},
   "outputs": [],
   "source": [
    "df_towork_v3=pd.concat([pd.get_dummies(df_towork_v2[variables_to_categorize]),df_towork_v2],axis=1).drop(variables_to_categorize,axis=1)"
   ]
  },
  {
   "cell_type": "code",
   "execution_count": 186,
   "metadata": {},
   "outputs": [
    {
     "name": "stdout",
     "output_type": "stream",
     "text": [
      "<class 'pandas.core.frame.DataFrame'>\n",
      "Int64Index: 2926 entries, 0 to 2929\n",
      "Data columns (total 100 columns):\n",
      "MS Zoning_A (agr)     2926 non-null uint8\n",
      "MS Zoning_C (all)     2926 non-null uint8\n",
      "MS Zoning_FV          2926 non-null uint8\n",
      "MS Zoning_I (all)     2926 non-null uint8\n",
      "MS Zoning_RH          2926 non-null uint8\n",
      "MS Zoning_RL          2926 non-null uint8\n",
      "MS Zoning_RM          2926 non-null uint8\n",
      "Street_Grvl           2926 non-null uint8\n",
      "Street_Pave           2926 non-null uint8\n",
      "Land Contour_Bnk      2926 non-null uint8\n",
      "Land Contour_HLS      2926 non-null uint8\n",
      "Land Contour_Low      2926 non-null uint8\n",
      "Land Contour_Lvl      2926 non-null uint8\n",
      "Lot Config_Corner     2926 non-null uint8\n",
      "Lot Config_CulDSac    2926 non-null uint8\n",
      "Lot Config_FR2        2926 non-null uint8\n",
      "Lot Config_FR3        2926 non-null uint8\n",
      "Lot Config_Inside     2926 non-null uint8\n",
      "Condition 1_Artery    2926 non-null uint8\n",
      "Condition 1_Feedr     2926 non-null uint8\n",
      "Condition 1_Norm      2926 non-null uint8\n",
      "Condition 1_PosA      2926 non-null uint8\n",
      "Condition 1_PosN      2926 non-null uint8\n",
      "Condition 1_RRAe      2926 non-null uint8\n",
      "Condition 1_RRAn      2926 non-null uint8\n",
      "Condition 1_RRNe      2926 non-null uint8\n",
      "Condition 1_RRNn      2926 non-null uint8\n",
      "Condition 2_Artery    2926 non-null uint8\n",
      "Condition 2_Feedr     2926 non-null uint8\n",
      "Condition 2_Norm      2926 non-null uint8\n",
      "Condition 2_PosA      2926 non-null uint8\n",
      "Condition 2_PosN      2926 non-null uint8\n",
      "Condition 2_RRAe      2926 non-null uint8\n",
      "Condition 2_RRAn      2926 non-null uint8\n",
      "Condition 2_RRNn      2926 non-null uint8\n",
      "Bldg Type_1Fam        2926 non-null uint8\n",
      "Bldg Type_2fmCon      2926 non-null uint8\n",
      "Bldg Type_Duplex      2926 non-null uint8\n",
      "Bldg Type_Twnhs       2926 non-null uint8\n",
      "Bldg Type_TwnhsE      2926 non-null uint8\n",
      "House Style_1.5Fin    2926 non-null uint8\n",
      "House Style_1.5Unf    2926 non-null uint8\n",
      "House Style_1Story    2926 non-null uint8\n",
      "House Style_2.5Fin    2926 non-null uint8\n",
      "House Style_2.5Unf    2926 non-null uint8\n",
      "House Style_2Story    2926 non-null uint8\n",
      "House Style_SFoyer    2926 non-null uint8\n",
      "House Style_SLvl      2926 non-null uint8\n",
      "Roof Style_Flat       2926 non-null uint8\n",
      "Roof Style_Gable      2926 non-null uint8\n",
      "Roof Style_Gambrel    2926 non-null uint8\n",
      "Roof Style_Hip        2926 non-null uint8\n",
      "Roof Style_Mansard    2926 non-null uint8\n",
      "Roof Style_Shed       2926 non-null uint8\n",
      "Roof Matl_ClyTile     2926 non-null uint8\n",
      "Roof Matl_CompShg     2926 non-null uint8\n",
      "Roof Matl_Membran     2926 non-null uint8\n",
      "Roof Matl_Metal       2926 non-null uint8\n",
      "Roof Matl_Roll        2926 non-null uint8\n",
      "Roof Matl_Tar&Grv     2926 non-null uint8\n",
      "Roof Matl_WdShake     2926 non-null uint8\n",
      "Roof Matl_WdShngl     2926 non-null uint8\n",
      "Foundation_BrkTil     2926 non-null uint8\n",
      "Foundation_CBlock     2926 non-null uint8\n",
      "Foundation_PConc      2926 non-null uint8\n",
      "Foundation_Slab       2926 non-null uint8\n",
      "Foundation_Stone      2926 non-null uint8\n",
      "Foundation_Wood       2926 non-null uint8\n",
      "Heating_Floor         2926 non-null uint8\n",
      "Heating_GasA          2926 non-null uint8\n",
      "Heating_GasW          2926 non-null uint8\n",
      "Heating_Grav          2926 non-null uint8\n",
      "Heating_OthW          2926 non-null uint8\n",
      "Heating_Wall          2926 non-null uint8\n",
      "Central Air_N         2926 non-null uint8\n",
      "Central Air_Y         2926 non-null uint8\n",
      "Lot Shape             2926 non-null category\n",
      "Utilities             2926 non-null category\n",
      "Land Slope            2926 non-null category\n",
      "Overall Qual          2926 non-null int64\n",
      "Mas Vnr Area          2926 non-null float64\n",
      "Exter Qual            2926 non-null category\n",
      "Exter Cond            2926 non-null category\n",
      "BsmtFin SF 1          2926 non-null float64\n",
      "Total Bsmt SF         2926 non-null float64\n",
      "Heating QC            2926 non-null category\n",
      "1st Flr SF            2926 non-null int64\n",
      "Gr Liv Area           2926 non-null int64\n",
      "Full Bath             2926 non-null int64\n",
      "Kitchen Qual          2926 non-null category\n",
      "TotRms AbvGrd         2926 non-null int64\n",
      "Functional            2926 non-null category\n",
      "Fireplaces            2926 non-null int64\n",
      "Garage Yr Blt         2767 non-null float64\n",
      "Garage Cars           2926 non-null float64\n",
      "Garage Area           2926 non-null float64\n",
      "Paved Drive           2926 non-null category\n",
      "SalePrice             2926 non-null int64\n",
      "years_since_remod     2926 non-null int64\n",
      "years_sold            2926 non-null int64\n",
      "dtypes: category(9), float64(6), int64(9), uint8(76)\n",
      "memory usage: 610.3 KB\n"
     ]
    }
   ],
   "source": [
    "df_towork_v3.info()"
   ]
  },
  {
   "cell_type": "code",
   "execution_count": 223,
   "metadata": {},
   "outputs": [],
   "source": [
    "#Combining all the steps above to encapsulate it in a single function\n",
    "def select_features(df):\n",
    "    df_towork=df.copy()\n",
    "    #Calculating corrrelation factors of all numerical features\n",
    "    numerical_features=df_towork.select_dtypes(include=(['float64','int64'])).columns\n",
    "    corrmat=df_towork.select_dtypes(include=(['float64','int64'])).corr()\n",
    "    strong_corr=corrmat[corrmat['SalePrice'].abs()>=.4].drop(['SalePrice'],axis=1).index\n",
    "    weak_corr=corrmat[corrmat['SalePrice'].abs()<.4].index\n",
    "    #weak_corr\n",
    "    df_towork=df_towork.drop(weak_corr,axis=1)\n",
    "    \n",
    "    nominal_features = [\"PID\", \"MS SubClass\", \"MS Zoning\", \"Street\", \"Alley\", \"Land Contour\", \"Lot Config\", \"Neighborhood\", \n",
    "                    \"Condition 1\", \"Condition 2\", \"Bldg Type\", \"House Style\", \"Roof Style\", \"Roof Matl\", \"Exterior 1st\", \n",
    "                    \"Exterior 2nd\", \"Mas Vnr Type\", \"Foundation\", \"Heating\", \"Central Air\", \"Garage Type\", \n",
    "                    \"Misc Feature\", \"Sale Condition\"]\n",
    "    \n",
    "    #Dropping nominal features which have weak correlation\n",
    "    variables_to_categorize=[]\n",
    "    for i in nominal_features:\n",
    "        if i in df_towork.columns:\n",
    "            variables_to_categorize.append(i)\n",
    "    \n",
    "    for i in variables_to_categorize:\n",
    "        if len(df_towork[i].unique())>=10:\n",
    "            #print(i,len(df_towork[i].unique()))\n",
    "            df_towork=df_towork.drop(i,axis=1)\n",
    "        \n",
    "    variables_to_categorize.remove('Neighborhood')\n",
    "    variables_to_categorize.remove('Exterior 1st')\n",
    "    variables_to_categorize.remove('Exterior 2nd')\n",
    "    \n",
    "    text_cols=df_towork.select_dtypes(include=(['object'])).columns\n",
    "    for i in text_cols:\n",
    "        df_towork[i]=df_towork[i].astype('category')\n",
    "    \n",
    "    df_towork=pd.concat([pd.get_dummies(df_towork.select_dtypes(include=(['category']))),df_towork],axis=1).drop(variables_to_categorize,axis=1)\n",
    "        \n",
    "    return df_towork"
   ]
  },
  {
   "cell_type": "code",
   "execution_count": 263,
   "metadata": {},
   "outputs": [
    {
     "name": "stdout",
     "output_type": "stream",
     "text": [
      "<class 'pandas.core.frame.DataFrame'>\n",
      "Int64Index: 2926 entries, 0 to 2929\n",
      "Columns: 139 entries, MS Zoning_A (agr) to years_sold\n",
      "dtypes: category(9), float64(5), int64(9), uint8(116)\n",
      "memory usage: 701.7 KB\n"
     ]
    }
   ],
   "source": [
    "#Testing above function\n",
    "df_test=transform_features(df)\n",
    "df_test=select_features(df_test)\n",
    "df_test.info()\n",
    "#del df_test\n"
   ]
  },
  {
   "cell_type": "code",
   "execution_count": 264,
   "metadata": {},
   "outputs": [
    {
     "name": "stdout",
     "output_type": "stream",
     "text": [
      "36653.18910448307\n"
     ]
    }
   ],
   "source": [
    "train=df_test[:1460]\n",
    "test=df_test[1460:]\n",
    "lr = linear_model.LinearRegression()\n",
    "features=df_test.select_dtypes(include=('int64','float64')).drop(['SalePrice'],axis=1).columns\n",
    "features\n",
    "lr.fit(train[features],train['SalePrice'])\n",
    "predict=lr.predict(test[features])\n",
    "mse=mean_squared_error(predict,test['SalePrice'])\n",
    "rmse=np.sqrt(mse)\n",
    "print(rmse)\n"
   ]
  },
  {
   "cell_type": "code",
   "execution_count": 272,
   "metadata": {},
   "outputs": [],
   "source": [
    "#Combining steps above to encapsulate it in a single function\n",
    "def train_and_test(df,k=0):\n",
    "    #features\n",
    "    features=df.select_dtypes(include=('int64','float64')).drop(['SalePrice'],axis=1).columns\n",
    "    \n",
    "    if k==0:\n",
    "        train=df[:1460]\n",
    "        test=df[1460:]\n",
    "        lr = linear_model.LinearRegression()\n",
    "        lr.fit(train[features],train['SalePrice'])\n",
    "        predict=lr.predict(test[features])\n",
    "        mse=mean_squared_error(predict,test['SalePrice'])\n",
    "        rmse=np.sqrt(mse)\n",
    "        return rmse\n",
    "    \n",
    "    if k==1:\n",
    "        df_shuffle = df.sample(frac=1,)\n",
    "        fold_one=df_shuffle[:1460]\n",
    "        fold_two=df_shuffle[1460:]\n",
    "        lr = linear_model.LinearRegression()\n",
    "        \n",
    "        lr.fit(fold_one[features],fold_one['SalePrice'])\n",
    "        predict_one=lr.predict(fold_two[features])\n",
    "        mse_one=mean_squared_error(predict_one,fold_two['SalePrice'])\n",
    "        rmse_one=np.sqrt(mse_one)\n",
    "        \n",
    "        lr = linear_model.LinearRegression()\n",
    "        lr.fit(fold_two[features],fold_two['SalePrice'])\n",
    "        predict_two=lr.predict(fold_one[features])\n",
    "        mse_two=mean_squared_error(predict_two,fold_one['SalePrice'])\n",
    "        rmse_two=np.sqrt(mse_two)\n",
    "        \n",
    "        avg_rmse=np.mean([rmse_one,rmse_two])\n",
    "        \n",
    "        return avg_rmse\n",
    "        \n",
    "    else:\n",
    "        kf = KFold(n_splits=k, shuffle=True)\n",
    "        rmse_vals=[]\n",
    "        for train_index,test_index, in kf.split(df):\n",
    "            train=df.iloc[train_index]\n",
    "            test=df.iloc[test_index]\n",
    "            lr = linear_model.LinearRegression()\n",
    "            lr.fit(train[features],train['SalePrice'])       \n",
    "            predict=lr.predict(test[features])\n",
    "            mse=mean_squared_error(predict,test['SalePrice'])\n",
    "            rmse=np.sqrt(mse)\n",
    "            rmse_vals.append(rmse)\n",
    "        avg_rmse=np.mean(rmse_vals)\n",
    "        return avg_rmse"
   ]
  },
  {
   "cell_type": "code",
   "execution_count": 277,
   "metadata": {},
   "outputs": [
    {
     "data": {
      "text/plain": [
       "33130.39929603716"
      ]
     },
     "execution_count": 277,
     "metadata": {},
     "output_type": "execute_result"
    }
   ],
   "source": [
    "train_and_test(df_test,6)"
   ]
  },
  {
   "cell_type": "code",
   "execution_count": 278,
   "metadata": {},
   "outputs": [
    {
     "name": "stdout",
     "output_type": "stream",
     "text": [
      "Avg RMSE for this model with k as 0 is 36653.19\n",
      "Avg RMSE for this model with k as 1 is 33028.85\n",
      "Avg RMSE for this model with k as 2 is 33292.77\n",
      "Avg RMSE for this model with k as 4 is 33589.47\n",
      "Avg RMSE for this model with k as 5 is 32738.60\n",
      "Avg RMSE for this model with k as 8 is 33137.76\n",
      "Avg RMSE for this model with k as 10 is 32718.58\n",
      "Avg RMSE for this model with k as 15 is 32483.13\n",
      "Avg RMSE for this model with k as 20 is 32451.01\n"
     ]
    }
   ],
   "source": [
    "#Testing Model for various values of K\n",
    "df_test=transform_features(df)\n",
    "df_test=select_features(df_test)\n",
    "\n",
    "k=[0,1,2,4,5,8,10,15,20]\n",
    "for i in k:\n",
    "    rmse = train_and_test(df_test,i)\n",
    "    print(\"Avg RMSE for this model with k as {} is {:.2f}\".format(i,rmse))"
   ]
  },
  {
   "cell_type": "code",
   "execution_count": null,
   "metadata": {},
   "outputs": [],
   "source": []
  }
 ],
 "metadata": {
  "kernelspec": {
   "display_name": "Python 3",
   "language": "python",
   "name": "python3"
  },
  "language_info": {
   "codemirror_mode": {
    "name": "ipython",
    "version": 3
   },
   "file_extension": ".py",
   "mimetype": "text/x-python",
   "name": "python",
   "nbconvert_exporter": "python",
   "pygments_lexer": "ipython3",
   "version": "3.6.5"
  }
 },
 "nbformat": 4,
 "nbformat_minor": 2
}
